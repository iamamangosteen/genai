{
  "nbformat": 4,
  "nbformat_minor": 0,
  "metadata": {
    "colab": {
      "provenance": []
    },
    "kernelspec": {
      "name": "python3",
      "display_name": "Python 3"
    },
    "language_info": {
      "name": "python"
    }
  },
  "cells": [
    {
      "cell_type": "code",
      "source": [
        "!pip install openai"
      ],
      "metadata": {
        "colab": {
          "base_uri": "https://localhost:8080/"
        },
        "id": "xu4mzkPemuNT",
        "outputId": "05312e8a-fcc5-460e-d8ce-63fe6fa036fd"
      },
      "execution_count": 3,
      "outputs": [
        {
          "output_type": "stream",
          "name": "stdout",
          "text": [
            "Requirement already satisfied: openai in /usr/local/lib/python3.10/dist-packages (0.28.0)\n",
            "Requirement already satisfied: requests>=2.20 in /usr/local/lib/python3.10/dist-packages (from openai) (2.31.0)\n",
            "Requirement already satisfied: tqdm in /usr/local/lib/python3.10/dist-packages (from openai) (4.66.1)\n",
            "Requirement already satisfied: aiohttp in /usr/local/lib/python3.10/dist-packages (from openai) (3.8.5)\n",
            "Requirement already satisfied: charset-normalizer<4,>=2 in /usr/local/lib/python3.10/dist-packages (from requests>=2.20->openai) (3.2.0)\n",
            "Requirement already satisfied: idna<4,>=2.5 in /usr/local/lib/python3.10/dist-packages (from requests>=2.20->openai) (3.4)\n",
            "Requirement already satisfied: urllib3<3,>=1.21.1 in /usr/local/lib/python3.10/dist-packages (from requests>=2.20->openai) (2.0.4)\n",
            "Requirement already satisfied: certifi>=2017.4.17 in /usr/local/lib/python3.10/dist-packages (from requests>=2.20->openai) (2023.7.22)\n",
            "Requirement already satisfied: attrs>=17.3.0 in /usr/local/lib/python3.10/dist-packages (from aiohttp->openai) (23.1.0)\n",
            "Requirement already satisfied: multidict<7.0,>=4.5 in /usr/local/lib/python3.10/dist-packages (from aiohttp->openai) (6.0.4)\n",
            "Requirement already satisfied: async-timeout<5.0,>=4.0.0a3 in /usr/local/lib/python3.10/dist-packages (from aiohttp->openai) (4.0.3)\n",
            "Requirement already satisfied: yarl<2.0,>=1.0 in /usr/local/lib/python3.10/dist-packages (from aiohttp->openai) (1.9.2)\n",
            "Requirement already satisfied: frozenlist>=1.1.1 in /usr/local/lib/python3.10/dist-packages (from aiohttp->openai) (1.4.0)\n",
            "Requirement already satisfied: aiosignal>=1.1.2 in /usr/local/lib/python3.10/dist-packages (from aiohttp->openai) (1.3.1)\n"
          ]
        }
      ]
    },
    {
      "cell_type": "code",
      "execution_count": 4,
      "metadata": {
        "id": "zavIVTwWlGdq"
      },
      "outputs": [],
      "source": [
        "import openai\n",
        "import os\n",
        "openai.api_key  = 'ENTERAPIKEYHERE'\n",
        "def chat(prompt, model=\"gpt-3.5-turbo\"):\n",
        "    response = openai.ChatCompletion.create(\n",
        "        model=model,\n",
        "        messages=[{\"role\": \"user\", \"content\": prompt}],\n",
        "        temperature=0.7, # this is the degree of randomness of the model's output\n",
        "    )\n",
        "    print(response.choices[0].message[\"content\"])"
      ]
    },
    {
      "cell_type": "code",
      "source": [
        "import openai\n",
        "import os\n",
        "openai.api_key  = 'ENTERAPIKEYHERE'\n",
        "\n",
        "memory = []\n",
        "\n",
        "def chatMemory(prompt, model=\"gpt-3.5-turbo\"):\n",
        "    global memory\n",
        "    prompt_with_memory = prompt + \"\\n\" + \"\\n\".join(memory)\n",
        "    messages = [{\"role\": \"user\", \"content\": prompt_with_memory}]\n",
        "    response = openai.ChatCompletion.create(\n",
        "        model=model,\n",
        "        messages=messages,\n",
        "        temperature=0.7, # this is the degree of randomness of the model's output\n",
        "    )\n",
        "    message = response.choices[0].message[\"content\"]\n",
        "    memory.append(message)\n",
        "    print(message)"
      ],
      "metadata": {
        "id": "BE-3G9HVmp34"
      },
      "execution_count": 6,
      "outputs": []
    },
    {
      "cell_type": "code",
      "source": [
        "chat(\"What is ChatGPT?\")"
      ],
      "metadata": {
        "colab": {
          "base_uri": "https://localhost:8080/"
        },
        "id": "6qJtRZBlmsO3",
        "outputId": "8780239a-aefe-435f-e7ce-5ed343ce097a"
      },
      "execution_count": 7,
      "outputs": [
        {
          "output_type": "stream",
          "name": "stdout",
          "text": [
            "ChatGPT is a language model developed by OpenAI. It makes use of the GPT (Generative Pre-trained Transformer) technology to generate human-like text responses in a conversational manner. It is designed to engage in dialogue with users and can be used for a wide range of applications, such as virtual assistants, customer support, tutoring, and more. ChatGPT is trained on a large dataset of internet text, allowing it to understand and generate coherent and contextually relevant responses.\n"
          ]
        }
      ]
    },
    {
      "cell_type": "code",
      "source": [
        "chatMemory(\"\"\"\n",
        "\n",
        "I have a dataset with columns: <Order #\tInvoice #\tOrder Date\tCustomer\tStatus\tReady For Shipment\tInvoice\tSale\tPaid\tDue\tJournals\tProfit\tCOGS\tFX Gain/Loss>\n",
        "\n",
        "Can you write an Excel macro to create seperate Excel files for the rows of each unique customer in the dataset?\n",
        "\n",
        "\"\"\")"
      ],
      "metadata": {
        "colab": {
          "base_uri": "https://localhost:8080/"
        },
        "id": "9l6LSXCzm5TK",
        "outputId": "d18c416d-bf68-4696-9b00-33cbab7380f8"
      },
      "execution_count": 8,
      "outputs": [
        {
          "output_type": "stream",
          "name": "stdout",
          "text": [
            "Sure! Here's an example of an Excel VBA macro that will create separate Excel files for each unique customer in the dataset:\n",
            "\n",
            "```vba\n",
            "Sub CreateFilesForCustomers()\n",
            "    Dim ws As Worksheet\n",
            "    Dim rng As Range\n",
            "    Dim cell As Range\n",
            "    Dim customer As String\n",
            "    Dim newWorkbook As Workbook\n",
            "    \n",
            "    ' Set the worksheet containing the dataset\n",
            "    Set ws = ThisWorkbook.Worksheets(\"Sheet1\") ' Replace \"Sheet1\" with the actual sheet name\n",
            "    \n",
            "    ' Set the range of data (excluding header row)\n",
            "    Set rng = ws.Range(\"A2\", ws.Cells(ws.Rows.Count, 1).End(xlUp))\n",
            "    \n",
            "    ' Loop through each row in the range\n",
            "    For Each cell In rng\n",
            "        customer = cell.Offset(0, 3).Value ' Assuming customer name is in column D\n",
            "        \n",
            "        ' Check if a workbook already exists for the customer\n",
            "        On Error Resume Next\n",
            "        Set newWorkbook = Workbooks(customer & \".xlsx\")\n",
            "        On Error GoTo 0\n",
            "        \n",
            "        ' If no workbook exists, create a new one and save it\n",
            "        If newWorkbook Is Nothing Then\n",
            "            Set newWorkbook = Workbooks.Add\n",
            "            newWorkbook.SaveAs ThisWorkbook.Path & \"\\\" & customer & \".xlsx\"\n",
            "        End If\n",
            "        \n",
            "        ' Copy the row to the new workbook\n",
            "        cell.EntireRow.Copy newWorkbook.Sheets(1).Cells(newWorkbook.Sheets(1).Cells(Rows.Count, 1).End(xlUp).Row + 1, 1)\n",
            "    Next cell\n",
            "    \n",
            "    ' Save and close each new workbook\n",
            "    For Each newWorkbook In Workbooks\n",
            "        newWorkbook.Save\n",
            "        newWorkbook.Close\n",
            "    Next newWorkbook\n",
            "End Sub\n",
            "```\n",
            "\n",
            "To use the macro, follow these steps:\n",
            "\n",
            "1. Open your Excel file with the dataset.\n",
            "2. Press `ALT + F11` to open the Visual Basic for Applications (VBA) editor.\n",
            "3. Insert a new module by clicking `Insert` > `Module`.\n",
            "4. Copy and paste the above code into the module.\n",
            "5. Modify the code if your dataset is on a different sheet or if the customer name is in a different column.\n",
            "6. Close the VBA editor.\n",
            "7. Press `ALT + F8` to open the \"Macro\" dialog.\n",
            "8. Select the \"CreateFilesForCustomers\" macro and click `Run`.\n",
            "\n",
            "The macro will create separate Excel files for each unique customer in the dataset, with the filename being the customer's name. Each file will contain the rows of data corresponding to that customer.\n"
          ]
        }
      ]
    },
    {
      "cell_type": "code",
      "source": [
        "chatMemory(f\"\"\"\n",
        "\n",
        "The above code gives me an error that says 'Compile error: For Each control variable must be Variant or Object'\n",
        "\n",
        "Can you fix this?\n",
        "\n",
        "\"\"\")"
      ],
      "metadata": {
        "colab": {
          "base_uri": "https://localhost:8080/"
        },
        "id": "-rpBz22QnAfj",
        "outputId": "0889f492-7c1e-4a13-a024-fd52610f19fa"
      },
      "execution_count": 9,
      "outputs": [
        {
          "output_type": "stream",
          "name": "stdout",
          "text": [
            "Yes, I can help you fix this error. To resolve the error, you need to declare the control variable of the For Each loop as an Object or Variant. Here's an example of how you can fix it:\n",
            "\n",
            "```\n",
            "Dim ctrl As Object ' Declare ctrl as an Object\n",
            "\n",
            "For Each ctrl In Me.Controls ' Replace 'control' with 'ctrl'\n",
            "    ' Your code here\n",
            "Next ctrl\n",
            "```\n",
            "\n",
            "By declaring 'ctrl' as an Object, you can iterate over the controls using the For Each loop without encountering the compile error. Make sure to replace 'Me.Controls' with the appropriate reference to the collection of controls you want to loop through.\n"
          ]
        }
      ]
    },
    {
      "cell_type": "code",
      "source": [],
      "metadata": {
        "id": "nzB2mV_cnIli"
      },
      "execution_count": null,
      "outputs": []
    }
  ]
}
